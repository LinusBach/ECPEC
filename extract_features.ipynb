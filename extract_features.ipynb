{
 "cells": [
  {
   "cell_type": "code",
   "execution_count": null,
   "metadata": {
    "id": "Y1cYmNfvrApH",
    "colab": {
     "base_uri": "https://localhost:8080/"
    },
    "outputId": "2af3a6c6-e921-4da3-8eb1-fa00756fdcee",
    "pycharm": {
     "name": "#%%\n"
    }
   },
   "outputs": [
    {
     "output_type": "stream",
     "name": "stdout",
     "text": [
      "importing standardlib modules\n",
      "importing google drive\n",
      "importing tensorflow/keras modules\n",
      "importing miscelaneaous modules\n"
     ]
    }
   ],
   "source": [
    "%run \"Path to the setup.ipynb file\"\n",
    "\n",
    "from transformers import AutoModel, AutoTokenizer\n",
    "import sys"
   ]
  },
  {
   "cell_type": "code",
   "execution_count": null,
   "metadata": {
    "id": "xaugPnIknEqz",
    "pycharm": {
     "name": "#%%\n"
    }
   },
   "outputs": [],
   "source": [
    "def extract_embeddings(conv_df, emb_path, text_model, tokenizer, max_len):\n",
    "    \"\"\" Extract features for all the conversations and store them in a files\n",
    "     according to conversations \"\"\"\n",
    "    len_utterances = list()\n",
    "    for n, conv in tqdm(conv_df.groupby(\"conversation_ID\")):\n",
    "        embeddings = list()\n",
    "        for text in conv[\"text\"]:\n",
    "            # tokenize the texts\n",
    "            text = text.lower()\n",
    "            text = text.replace(\"\\n\", \"\")\n",
    "            encoded_input = tokenizer(text,\n",
    "                                      padding=\"max_length\",\n",
    "                                      max_length=max_len,\n",
    "                                      return_tensors='pt')\n",
    "            # get the model's output\n",
    "            output = text_model(**encoded_input)\n",
    "\n",
    "            semantic_feat = output.last_hidden_state\n",
    "\n",
    "            # transform tensor to numpy\n",
    "            np_tensor = semantic_feat.detach().numpy()\n",
    "\n",
    "            # truncate any sequence longer than 40 tokens, applies to < 1%\n",
    "            embeddings.append(np_tensor[:,:40])\n",
    "        embeddings = np.array(embeddings)\n",
    "        np.save(emb_path + f\"/conv_{n}_embeddings\", embeddings)\n",
    "\n",
    "    return embeddings, len_utterances"
   ]
  },
  {
   "cell_type": "code",
   "execution_count": null,
   "metadata": {
    "colab": {
     "base_uri": "https://localhost:8080/",
     "height": 104,
     "referenced_widgets": [
      "3c0bab193cad4a8aada2d7b4da46143d",
      "4c696a3bb986419fa143ad410b551c06",
      "a951758caf3c462ea032eb2c240f4dd1",
      "5cce98c631b846f6b3756cc82746fcae",
      "850dc3ca4add4689b220abab82293c43",
      "4f23f80da67c44ec9e6b740df52f0291",
      "2c8e327725df48c7967d1ae3edeacd87",
      "471dd4559b794b31b673c9c06b41bcd9",
      "c7c7ba24c6d045a9b81c66f7e7a42f2d",
      "a1f6efc66d164e5ab661504e3dc0e585",
      "7217bce5ec49499a9d1aa04cb32deb35"
     ]
    },
    "id": "9jnZEuHenQlt",
    "outputId": "b5fa7bfb-e56e-4e86-9cef-7ac86840728e",
    "pycharm": {
     "name": "#%%\n"
    }
   },
   "outputs": [
    {
     "output_type": "display_data",
     "data": {
      "text/plain": [
       "  0%|          | 0/1374 [00:00<?, ?it/s]"
      ],
      "application/vnd.jupyter.widget-view+json": {
       "version_major": 2,
       "version_minor": 0,
       "model_id": "3c0bab193cad4a8aada2d7b4da46143d"
      }
     },
     "metadata": {}
    },
    {
     "output_type": "stream",
     "name": "stdout",
     "text": [
      "Average utterance length:  13.867978559365593\n",
      "Max utterance length:  91\n",
      "Number of utterances longer than 40 tokens:  136\n"
     ]
    }
   ],
   "source": [
    "MODEL_NAME = \"bert-large-uncased\"\n",
    "\n",
    "text_model = AutoModel.from_pretrained(MODEL_NAME)\n",
    "tokenizer = AutoTokenizer.from_pretrained(MODEL_NAME)\n",
    "\n",
    "emb, lengths = extract_embeddings(conv_df,\n",
    "                         emb_path=\"/content/drive/MyDrive/bachelor_thesis/data\",\n",
    "                         text_model=text_model,\n",
    "                         tokenizer=tokenizer,\n",
    "                         max_len=40)"
   ]
  }
 ],
 "metadata": {
  "colab": {
   "provenance": []
  },
  "kernelspec": {
   "display_name": "Python 3",
   "name": "python3"
  },
  "language_info": {
   "name": "python"
  },
  "widgets": {
   "application/vnd.jupyter.widget-state+json": {
    "3c0bab193cad4a8aada2d7b4da46143d": {
     "model_module": "@jupyter-widgets/controls",
     "model_name": "HBoxModel",
     "model_module_version": "1.5.0",
     "state": {
      "_dom_classes": [],
      "_model_module": "@jupyter-widgets/controls",
      "_model_module_version": "1.5.0",
      "_model_name": "HBoxModel",
      "_view_count": null,
      "_view_module": "@jupyter-widgets/controls",
      "_view_module_version": "1.5.0",
      "_view_name": "HBoxView",
      "box_style": "",
      "children": [
       "IPY_MODEL_4c696a3bb986419fa143ad410b551c06",
       "IPY_MODEL_a951758caf3c462ea032eb2c240f4dd1",
       "IPY_MODEL_5cce98c631b846f6b3756cc82746fcae"
      ],
      "layout": "IPY_MODEL_850dc3ca4add4689b220abab82293c43"
     }
    },
    "4c696a3bb986419fa143ad410b551c06": {
     "model_module": "@jupyter-widgets/controls",
     "model_name": "HTMLModel",
     "model_module_version": "1.5.0",
     "state": {
      "_dom_classes": [],
      "_model_module": "@jupyter-widgets/controls",
      "_model_module_version": "1.5.0",
      "_model_name": "HTMLModel",
      "_view_count": null,
      "_view_module": "@jupyter-widgets/controls",
      "_view_module_version": "1.5.0",
      "_view_name": "HTMLView",
      "description": "",
      "description_tooltip": null,
      "layout": "IPY_MODEL_4f23f80da67c44ec9e6b740df52f0291",
      "placeholder": "​",
      "style": "IPY_MODEL_2c8e327725df48c7967d1ae3edeacd87",
      "value": "100%"
     }
    },
    "a951758caf3c462ea032eb2c240f4dd1": {
     "model_module": "@jupyter-widgets/controls",
     "model_name": "FloatProgressModel",
     "model_module_version": "1.5.0",
     "state": {
      "_dom_classes": [],
      "_model_module": "@jupyter-widgets/controls",
      "_model_module_version": "1.5.0",
      "_model_name": "FloatProgressModel",
      "_view_count": null,
      "_view_module": "@jupyter-widgets/controls",
      "_view_module_version": "1.5.0",
      "_view_name": "ProgressView",
      "bar_style": "success",
      "description": "",
      "description_tooltip": null,
      "layout": "IPY_MODEL_471dd4559b794b31b673c9c06b41bcd9",
      "max": 1374,
      "min": 0,
      "orientation": "horizontal",
      "style": "IPY_MODEL_c7c7ba24c6d045a9b81c66f7e7a42f2d",
      "value": 1374
     }
    },
    "5cce98c631b846f6b3756cc82746fcae": {
     "model_module": "@jupyter-widgets/controls",
     "model_name": "HTMLModel",
     "model_module_version": "1.5.0",
     "state": {
      "_dom_classes": [],
      "_model_module": "@jupyter-widgets/controls",
      "_model_module_version": "1.5.0",
      "_model_name": "HTMLModel",
      "_view_count": null,
      "_view_module": "@jupyter-widgets/controls",
      "_view_module_version": "1.5.0",
      "_view_name": "HTMLView",
      "description": "",
      "description_tooltip": null,
      "layout": "IPY_MODEL_a1f6efc66d164e5ab661504e3dc0e585",
      "placeholder": "​",
      "style": "IPY_MODEL_7217bce5ec49499a9d1aa04cb32deb35",
      "value": " 1374/1374 [00:04&lt;00:00, 345.89it/s]"
     }
    },
    "850dc3ca4add4689b220abab82293c43": {
     "model_module": "@jupyter-widgets/base",
     "model_name": "LayoutModel",
     "model_module_version": "1.2.0",
     "state": {
      "_model_module": "@jupyter-widgets/base",
      "_model_module_version": "1.2.0",
      "_model_name": "LayoutModel",
      "_view_count": null,
      "_view_module": "@jupyter-widgets/base",
      "_view_module_version": "1.2.0",
      "_view_name": "LayoutView",
      "align_content": null,
      "align_items": null,
      "align_self": null,
      "border": null,
      "bottom": null,
      "display": null,
      "flex": null,
      "flex_flow": null,
      "grid_area": null,
      "grid_auto_columns": null,
      "grid_auto_flow": null,
      "grid_auto_rows": null,
      "grid_column": null,
      "grid_gap": null,
      "grid_row": null,
      "grid_template_areas": null,
      "grid_template_columns": null,
      "grid_template_rows": null,
      "height": null,
      "justify_content": null,
      "justify_items": null,
      "left": null,
      "margin": null,
      "max_height": null,
      "max_width": null,
      "min_height": null,
      "min_width": null,
      "object_fit": null,
      "object_position": null,
      "order": null,
      "overflow": null,
      "overflow_x": null,
      "overflow_y": null,
      "padding": null,
      "right": null,
      "top": null,
      "visibility": null,
      "width": null
     }
    },
    "4f23f80da67c44ec9e6b740df52f0291": {
     "model_module": "@jupyter-widgets/base",
     "model_name": "LayoutModel",
     "model_module_version": "1.2.0",
     "state": {
      "_model_module": "@jupyter-widgets/base",
      "_model_module_version": "1.2.0",
      "_model_name": "LayoutModel",
      "_view_count": null,
      "_view_module": "@jupyter-widgets/base",
      "_view_module_version": "1.2.0",
      "_view_name": "LayoutView",
      "align_content": null,
      "align_items": null,
      "align_self": null,
      "border": null,
      "bottom": null,
      "display": null,
      "flex": null,
      "flex_flow": null,
      "grid_area": null,
      "grid_auto_columns": null,
      "grid_auto_flow": null,
      "grid_auto_rows": null,
      "grid_column": null,
      "grid_gap": null,
      "grid_row": null,
      "grid_template_areas": null,
      "grid_template_columns": null,
      "grid_template_rows": null,
      "height": null,
      "justify_content": null,
      "justify_items": null,
      "left": null,
      "margin": null,
      "max_height": null,
      "max_width": null,
      "min_height": null,
      "min_width": null,
      "object_fit": null,
      "object_position": null,
      "order": null,
      "overflow": null,
      "overflow_x": null,
      "overflow_y": null,
      "padding": null,
      "right": null,
      "top": null,
      "visibility": null,
      "width": null
     }
    },
    "2c8e327725df48c7967d1ae3edeacd87": {
     "model_module": "@jupyter-widgets/controls",
     "model_name": "DescriptionStyleModel",
     "model_module_version": "1.5.0",
     "state": {
      "_model_module": "@jupyter-widgets/controls",
      "_model_module_version": "1.5.0",
      "_model_name": "DescriptionStyleModel",
      "_view_count": null,
      "_view_module": "@jupyter-widgets/base",
      "_view_module_version": "1.2.0",
      "_view_name": "StyleView",
      "description_width": ""
     }
    },
    "471dd4559b794b31b673c9c06b41bcd9": {
     "model_module": "@jupyter-widgets/base",
     "model_name": "LayoutModel",
     "model_module_version": "1.2.0",
     "state": {
      "_model_module": "@jupyter-widgets/base",
      "_model_module_version": "1.2.0",
      "_model_name": "LayoutModel",
      "_view_count": null,
      "_view_module": "@jupyter-widgets/base",
      "_view_module_version": "1.2.0",
      "_view_name": "LayoutView",
      "align_content": null,
      "align_items": null,
      "align_self": null,
      "border": null,
      "bottom": null,
      "display": null,
      "flex": null,
      "flex_flow": null,
      "grid_area": null,
      "grid_auto_columns": null,
      "grid_auto_flow": null,
      "grid_auto_rows": null,
      "grid_column": null,
      "grid_gap": null,
      "grid_row": null,
      "grid_template_areas": null,
      "grid_template_columns": null,
      "grid_template_rows": null,
      "height": null,
      "justify_content": null,
      "justify_items": null,
      "left": null,
      "margin": null,
      "max_height": null,
      "max_width": null,
      "min_height": null,
      "min_width": null,
      "object_fit": null,
      "object_position": null,
      "order": null,
      "overflow": null,
      "overflow_x": null,
      "overflow_y": null,
      "padding": null,
      "right": null,
      "top": null,
      "visibility": null,
      "width": null
     }
    },
    "c7c7ba24c6d045a9b81c66f7e7a42f2d": {
     "model_module": "@jupyter-widgets/controls",
     "model_name": "ProgressStyleModel",
     "model_module_version": "1.5.0",
     "state": {
      "_model_module": "@jupyter-widgets/controls",
      "_model_module_version": "1.5.0",
      "_model_name": "ProgressStyleModel",
      "_view_count": null,
      "_view_module": "@jupyter-widgets/base",
      "_view_module_version": "1.2.0",
      "_view_name": "StyleView",
      "bar_color": null,
      "description_width": ""
     }
    },
    "a1f6efc66d164e5ab661504e3dc0e585": {
     "model_module": "@jupyter-widgets/base",
     "model_name": "LayoutModel",
     "model_module_version": "1.2.0",
     "state": {
      "_model_module": "@jupyter-widgets/base",
      "_model_module_version": "1.2.0",
      "_model_name": "LayoutModel",
      "_view_count": null,
      "_view_module": "@jupyter-widgets/base",
      "_view_module_version": "1.2.0",
      "_view_name": "LayoutView",
      "align_content": null,
      "align_items": null,
      "align_self": null,
      "border": null,
      "bottom": null,
      "display": null,
      "flex": null,
      "flex_flow": null,
      "grid_area": null,
      "grid_auto_columns": null,
      "grid_auto_flow": null,
      "grid_auto_rows": null,
      "grid_column": null,
      "grid_gap": null,
      "grid_row": null,
      "grid_template_areas": null,
      "grid_template_columns": null,
      "grid_template_rows": null,
      "height": null,
      "justify_content": null,
      "justify_items": null,
      "left": null,
      "margin": null,
      "max_height": null,
      "max_width": null,
      "min_height": null,
      "min_width": null,
      "object_fit": null,
      "object_position": null,
      "order": null,
      "overflow": null,
      "overflow_x": null,
      "overflow_y": null,
      "padding": null,
      "right": null,
      "top": null,
      "visibility": null,
      "width": null
     }
    },
    "7217bce5ec49499a9d1aa04cb32deb35": {
     "model_module": "@jupyter-widgets/controls",
     "model_name": "DescriptionStyleModel",
     "model_module_version": "1.5.0",
     "state": {
      "_model_module": "@jupyter-widgets/controls",
      "_model_module_version": "1.5.0",
      "_model_name": "DescriptionStyleModel",
      "_view_count": null,
      "_view_module": "@jupyter-widgets/base",
      "_view_module_version": "1.2.0",
      "_view_name": "StyleView",
      "description_width": ""
     }
    }
   }
  }
 },
 "nbformat": 4,
 "nbformat_minor": 0
}