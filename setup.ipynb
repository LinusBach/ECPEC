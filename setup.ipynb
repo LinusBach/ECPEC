{
  "nbformat": 4,
  "nbformat_minor": 0,
  "metadata": {
    "colab": {
      "provenance": []
    },
    "kernelspec": {
      "name": "python3",
      "display_name": "Python 3"
    },
    "language_info": {
      "name": "python"
    }
  },
  "cells": [
    {
      "cell_type": "code",
      "source": [
        "print(\"importing standardlib modules\")\n",
        "import os\n",
        "import itertools\n",
        "from typing import Iterable, Tuple, Any\n",
        "from collections.abc import Sequence, Callable\n",
        "from datetime import datetime"
      ],
      "metadata": {
        "id": "CZYI8D-DddMq",
        "colab": {
          "base_uri": "https://localhost:8080/"
        },
        "outputId": "018157db-69e3-41b9-f986-8ca36e629683"
      },
      "execution_count": null,
      "outputs": [
        {
          "output_type": "stream",
          "name": "stdout",
          "text": [
            "importing standardlib modules\n"
          ]
        }
      ]
    },
    {
      "cell_type": "code",
      "source": [
        "print(\"importing google drive\")\n",
        "from google.colab import drive"
      ],
      "metadata": {
        "id": "5gv6U_J4e6lN"
      },
      "execution_count": null,
      "outputs": []
    },
    {
      "cell_type": "code",
      "execution_count": null,
      "metadata": {
        "id": "S9BzO9fEdDvN",
        "colab": {
          "base_uri": "https://localhost:8080/"
        },
        "outputId": "7b43437a-54dd-4784-a28b-4480c689b7f3"
      },
      "outputs": [
        {
          "output_type": "stream",
          "name": "stdout",
          "text": [
            "importing tensorflow/keras modules\n"
          ]
        }
      ],
      "source": [
        "print(\"importing tensorflow/keras modules\")\n",
        "import tensorflow as tf\n",
        "from keras import regularizers, initializers, optimizers, callbacks\n",
        "from keras.preprocessing.text import Tokenizer\n",
        "from keras.preprocessing.sequence import pad_sequences\n",
        "from keras.layers import Layer, Dense, Input, Flatten, Concatenate, Conv1D\n",
        "from keras.layers import MaxPooling1D, Embedding, Dropout, LSTM, GRU\n",
        "from keras.layers import Bidirectional, GlobalAveragePooling1D\n",
        "from keras.models import Model\n",
        "from keras import backend as K\n",
        "from keras.utils import plot_model\n",
        "from keras.callbacks import ModelCheckpoint"
      ]
    },
    {
      "cell_type": "code",
      "source": [
        "print(\"importing miscelaneaous modules\")\n",
        "import numpy as np\n",
        "from numpy.random import Generator\n",
        "import matplotlib.pyplot as plt\n",
        "import pandas as pd\n",
        "from pandas.core.frame import DataFrame\n",
        "from sklearn.metrics import classification_report, confusion_matrix\n",
        "from tqdm.notebook import tqdm\n",
        "import seaborn as sns"
      ],
      "metadata": {
        "id": "POCMHyCGdkTe",
        "colab": {
          "base_uri": "https://localhost:8080/"
        },
        "outputId": "bb5670fb-2ca8-4c88-9142-0ef00dcfe2e9"
      },
      "execution_count": null,
      "outputs": [
        {
          "output_type": "stream",
          "name": "stdout",
          "text": [
            "import miscelaneaous modules\n"
          ]
        }
      ]
    }
  ]
}